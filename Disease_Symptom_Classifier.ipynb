{
 "cells": [
  {
   "cell_type": "code",
   "execution_count": 1,
   "id": "8ac264e0",
   "metadata": {},
   "outputs": [],
   "source": [
    "import numpy as np\n",
    "import seaborn as sns\n",
    "import pandas as pd\n",
    "import matplotlib.pyplot as plt\n",
    "import string\n",
    "%matplotlib inline"
   ]
  },
  {
   "cell_type": "code",
   "execution_count": 5,
   "id": "60ad2a92",
   "metadata": {},
   "outputs": [],
   "source": [
    "import nltk"
   ]
  },
  {
   "cell_type": "code",
   "execution_count": 6,
   "id": "ff81c21a",
   "metadata": {},
   "outputs": [],
   "source": [
    "dataset = pd.read_csv('Symptom2Disease.csv')"
   ]
  },
  {
   "cell_type": "code",
   "execution_count": 7,
   "id": "a94193e4",
   "metadata": {},
   "outputs": [
    {
     "data": {
      "text/html": [
       "<div>\n",
       "<style scoped>\n",
       "    .dataframe tbody tr th:only-of-type {\n",
       "        vertical-align: middle;\n",
       "    }\n",
       "\n",
       "    .dataframe tbody tr th {\n",
       "        vertical-align: top;\n",
       "    }\n",
       "\n",
       "    .dataframe thead th {\n",
       "        text-align: right;\n",
       "    }\n",
       "</style>\n",
       "<table border=\"1\" class=\"dataframe\">\n",
       "  <thead>\n",
       "    <tr style=\"text-align: right;\">\n",
       "      <th></th>\n",
       "      <th>Unnamed: 0</th>\n",
       "      <th>label</th>\n",
       "      <th>text</th>\n",
       "    </tr>\n",
       "  </thead>\n",
       "  <tbody>\n",
       "    <tr>\n",
       "      <th>0</th>\n",
       "      <td>0</td>\n",
       "      <td>Psoriasis</td>\n",
       "      <td>I have been experiencing a skin rash on my arm...</td>\n",
       "    </tr>\n",
       "    <tr>\n",
       "      <th>1</th>\n",
       "      <td>1</td>\n",
       "      <td>Psoriasis</td>\n",
       "      <td>My skin has been peeling, especially on my kne...</td>\n",
       "    </tr>\n",
       "    <tr>\n",
       "      <th>2</th>\n",
       "      <td>2</td>\n",
       "      <td>Psoriasis</td>\n",
       "      <td>I have been experiencing joint pain in my fing...</td>\n",
       "    </tr>\n",
       "    <tr>\n",
       "      <th>3</th>\n",
       "      <td>3</td>\n",
       "      <td>Psoriasis</td>\n",
       "      <td>There is a silver like dusting on my skin, esp...</td>\n",
       "    </tr>\n",
       "    <tr>\n",
       "      <th>4</th>\n",
       "      <td>4</td>\n",
       "      <td>Psoriasis</td>\n",
       "      <td>My nails have small dents or pits in them, and...</td>\n",
       "    </tr>\n",
       "  </tbody>\n",
       "</table>\n",
       "</div>"
      ],
      "text/plain": [
       "   Unnamed: 0      label                                               text\n",
       "0           0  Psoriasis  I have been experiencing a skin rash on my arm...\n",
       "1           1  Psoriasis  My skin has been peeling, especially on my kne...\n",
       "2           2  Psoriasis  I have been experiencing joint pain in my fing...\n",
       "3           3  Psoriasis  There is a silver like dusting on my skin, esp...\n",
       "4           4  Psoriasis  My nails have small dents or pits in them, and..."
      ]
     },
     "execution_count": 7,
     "metadata": {},
     "output_type": "execute_result"
    }
   ],
   "source": [
    "dataset.head()"
   ]
  },
  {
   "cell_type": "code",
   "execution_count": 8,
   "id": "77c5f9b6",
   "metadata": {},
   "outputs": [],
   "source": [
    "messages=[line.rstrip() for line in dataset['text']]"
   ]
  },
  {
   "cell_type": "code",
   "execution_count": 9,
   "id": "ee14d10e",
   "metadata": {},
   "outputs": [
    {
     "name": "stdout",
     "output_type": "stream",
     "text": [
      "1200\n"
     ]
    }
   ],
   "source": [
    "print(len(messages))"
   ]
  },
  {
   "cell_type": "code",
   "execution_count": 10,
   "id": "0448e01c",
   "metadata": {},
   "outputs": [
    {
     "data": {
      "text/plain": [
       "'I have a rash on my legs that is causing a lot of discomforts. It seems there is a cramp and I can see prominent veins on the calf. Also, I have been feeling very tired and fatigued in the past couple of days.'"
      ]
     },
     "execution_count": 10,
     "metadata": {},
     "output_type": "execute_result"
    }
   ],
   "source": [
    "messages[50]"
   ]
  },
  {
   "cell_type": "code",
   "execution_count": 11,
   "id": "4339c4b9",
   "metadata": {},
   "outputs": [
    {
     "name": "stdout",
     "output_type": "stream",
     "text": [
      "0 I have been experiencing a skin rash on my arms, legs, and torso for the past few weeks. It is red, itchy, and covered in dry, scaly patches.\n",
      "\n",
      "\n",
      "1 My skin has been peeling, especially on my knees, elbows, and scalp. This peeling is often accompanied by a burning or stinging sensation.\n",
      "\n",
      "\n",
      "2 I have been experiencing joint pain in my fingers, wrists, and knees. The pain is often achy and throbbing, and it gets worse when I move my joints.\n",
      "\n",
      "\n",
      "3 There is a silver like dusting on my skin, especially on my lower back and scalp. This dusting is made up of small scales that flake off easily when I scratch them.\n",
      "\n",
      "\n",
      "4 My nails have small dents or pits in them, and they often feel inflammatory and tender to the touch. Even there are minor rashes on my arms.\n",
      "\n",
      "\n",
      "5 The skin on my palms and soles is thickened and has deep cracks. These cracks are painful and bleed easily.\n",
      "\n",
      "\n",
      "6 The skin around my mouth, nose, and eyes is red and inflamed. It is often itchy and uncomfortable. There is a noticeable inflammation in my nails.\n",
      "\n",
      "\n",
      "7 My skin is very sensitive and reacts easily to changes in temperature or humidity. I often have to be careful about what products I use on my skin.\n",
      "\n",
      "\n",
      "8 I have noticed a sudden peeling of skin at different parts of my body, mainly arms, legs and back. Also, I face severe joint pain and skin rashes.\n",
      "\n",
      "\n",
      "9 The skin on my genitals is red and inflamed. It is often itchy, burning, and uncomfortable. There are rashes on different parts of the body too.\n",
      "\n",
      "\n"
     ]
    }
   ],
   "source": [
    "for mess_no,message in enumerate(messages[:10]):\n",
    "    print(mess_no,message)\n",
    "    print('\\n')"
   ]
  },
  {
   "cell_type": "code",
   "execution_count": 12,
   "id": "5b06f44c",
   "metadata": {},
   "outputs": [],
   "source": [
    "messages=pd.DataFrame(dataset,columns=['text','label'])"
   ]
  },
  {
   "cell_type": "code",
   "execution_count": 13,
   "id": "feff3160",
   "metadata": {},
   "outputs": [
    {
     "data": {
      "text/html": [
       "<div>\n",
       "<style scoped>\n",
       "    .dataframe tbody tr th:only-of-type {\n",
       "        vertical-align: middle;\n",
       "    }\n",
       "\n",
       "    .dataframe tbody tr th {\n",
       "        vertical-align: top;\n",
       "    }\n",
       "\n",
       "    .dataframe thead th {\n",
       "        text-align: right;\n",
       "    }\n",
       "</style>\n",
       "<table border=\"1\" class=\"dataframe\">\n",
       "  <thead>\n",
       "    <tr style=\"text-align: right;\">\n",
       "      <th></th>\n",
       "      <th>text</th>\n",
       "      <th>label</th>\n",
       "    </tr>\n",
       "  </thead>\n",
       "  <tbody>\n",
       "    <tr>\n",
       "      <th>0</th>\n",
       "      <td>I have been experiencing a skin rash on my arm...</td>\n",
       "      <td>Psoriasis</td>\n",
       "    </tr>\n",
       "    <tr>\n",
       "      <th>1</th>\n",
       "      <td>My skin has been peeling, especially on my kne...</td>\n",
       "      <td>Psoriasis</td>\n",
       "    </tr>\n",
       "    <tr>\n",
       "      <th>2</th>\n",
       "      <td>I have been experiencing joint pain in my fing...</td>\n",
       "      <td>Psoriasis</td>\n",
       "    </tr>\n",
       "    <tr>\n",
       "      <th>3</th>\n",
       "      <td>There is a silver like dusting on my skin, esp...</td>\n",
       "      <td>Psoriasis</td>\n",
       "    </tr>\n",
       "    <tr>\n",
       "      <th>4</th>\n",
       "      <td>My nails have small dents or pits in them, and...</td>\n",
       "      <td>Psoriasis</td>\n",
       "    </tr>\n",
       "  </tbody>\n",
       "</table>\n",
       "</div>"
      ],
      "text/plain": [
       "                                                text      label\n",
       "0  I have been experiencing a skin rash on my arm...  Psoriasis\n",
       "1  My skin has been peeling, especially on my kne...  Psoriasis\n",
       "2  I have been experiencing joint pain in my fing...  Psoriasis\n",
       "3  There is a silver like dusting on my skin, esp...  Psoriasis\n",
       "4  My nails have small dents or pits in them, and...  Psoriasis"
      ]
     },
     "execution_count": 13,
     "metadata": {},
     "output_type": "execute_result"
    }
   ],
   "source": [
    "messages.head()"
   ]
  },
  {
   "cell_type": "code",
   "execution_count": 14,
   "id": "8956fa2e",
   "metadata": {},
   "outputs": [
    {
     "data": {
      "text/html": [
       "<div>\n",
       "<style scoped>\n",
       "    .dataframe tbody tr th:only-of-type {\n",
       "        vertical-align: middle;\n",
       "    }\n",
       "\n",
       "    .dataframe tbody tr th {\n",
       "        vertical-align: top;\n",
       "    }\n",
       "\n",
       "    .dataframe thead th {\n",
       "        text-align: right;\n",
       "    }\n",
       "</style>\n",
       "<table border=\"1\" class=\"dataframe\">\n",
       "  <thead>\n",
       "    <tr style=\"text-align: right;\">\n",
       "      <th></th>\n",
       "      <th>text</th>\n",
       "      <th>label</th>\n",
       "    </tr>\n",
       "  </thead>\n",
       "  <tbody>\n",
       "    <tr>\n",
       "      <th>count</th>\n",
       "      <td>1200</td>\n",
       "      <td>1200</td>\n",
       "    </tr>\n",
       "    <tr>\n",
       "      <th>unique</th>\n",
       "      <td>1153</td>\n",
       "      <td>24</td>\n",
       "    </tr>\n",
       "    <tr>\n",
       "      <th>top</th>\n",
       "      <td>I've been feeling extremely scratchy, sick, an...</td>\n",
       "      <td>Psoriasis</td>\n",
       "    </tr>\n",
       "    <tr>\n",
       "      <th>freq</th>\n",
       "      <td>4</td>\n",
       "      <td>50</td>\n",
       "    </tr>\n",
       "  </tbody>\n",
       "</table>\n",
       "</div>"
      ],
      "text/plain": [
       "                                                     text      label\n",
       "count                                                1200       1200\n",
       "unique                                               1153         24\n",
       "top     I've been feeling extremely scratchy, sick, an...  Psoriasis\n",
       "freq                                                    4         50"
      ]
     },
     "execution_count": 14,
     "metadata": {},
     "output_type": "execute_result"
    }
   ],
   "source": [
    "messages.describe()"
   ]
  },
  {
   "cell_type": "code",
   "execution_count": 15,
   "id": "4608ff56",
   "metadata": {},
   "outputs": [
    {
     "data": {
      "text/html": [
       "<div>\n",
       "<style scoped>\n",
       "    .dataframe tbody tr th:only-of-type {\n",
       "        vertical-align: middle;\n",
       "    }\n",
       "\n",
       "    .dataframe tbody tr th {\n",
       "        vertical-align: top;\n",
       "    }\n",
       "\n",
       "    .dataframe thead tr th {\n",
       "        text-align: left;\n",
       "    }\n",
       "\n",
       "    .dataframe thead tr:last-of-type th {\n",
       "        text-align: right;\n",
       "    }\n",
       "</style>\n",
       "<table border=\"1\" class=\"dataframe\">\n",
       "  <thead>\n",
       "    <tr>\n",
       "      <th></th>\n",
       "      <th colspan=\"4\" halign=\"left\">text</th>\n",
       "    </tr>\n",
       "    <tr>\n",
       "      <th></th>\n",
       "      <th>count</th>\n",
       "      <th>unique</th>\n",
       "      <th>top</th>\n",
       "      <th>freq</th>\n",
       "    </tr>\n",
       "    <tr>\n",
       "      <th>label</th>\n",
       "      <th></th>\n",
       "      <th></th>\n",
       "      <th></th>\n",
       "      <th></th>\n",
       "    </tr>\n",
       "  </thead>\n",
       "  <tbody>\n",
       "    <tr>\n",
       "      <th>Acne</th>\n",
       "      <td>50</td>\n",
       "      <td>46</td>\n",
       "      <td>A nasty rash has just appeared on my skin. Bla...</td>\n",
       "      <td>2</td>\n",
       "    </tr>\n",
       "    <tr>\n",
       "      <th>Arthritis</th>\n",
       "      <td>50</td>\n",
       "      <td>46</td>\n",
       "      <td>I've been feeling really weak in my muscles an...</td>\n",
       "      <td>3</td>\n",
       "    </tr>\n",
       "    <tr>\n",
       "      <th>Bronchial Asthma</th>\n",
       "      <td>50</td>\n",
       "      <td>49</td>\n",
       "      <td>I've been struggling with fatigue and a consta...</td>\n",
       "      <td>2</td>\n",
       "    </tr>\n",
       "    <tr>\n",
       "      <th>Cervical spondylosis</th>\n",
       "      <td>50</td>\n",
       "      <td>49</td>\n",
       "      <td>Back pain, a persistent cough, and numbness in...</td>\n",
       "      <td>2</td>\n",
       "    </tr>\n",
       "    <tr>\n",
       "      <th>Chicken pox</th>\n",
       "      <td>50</td>\n",
       "      <td>49</td>\n",
       "      <td>I'm feeling fatigued and have no energy. I can...</td>\n",
       "      <td>2</td>\n",
       "    </tr>\n",
       "    <tr>\n",
       "      <th>Common Cold</th>\n",
       "      <td>50</td>\n",
       "      <td>49</td>\n",
       "      <td>I've been quite exhausted and ill. My throat h...</td>\n",
       "      <td>2</td>\n",
       "    </tr>\n",
       "    <tr>\n",
       "      <th>Dengue</th>\n",
       "      <td>50</td>\n",
       "      <td>50</td>\n",
       "      <td>I am facing severe joint pain and vomitting. I...</td>\n",
       "      <td>1</td>\n",
       "    </tr>\n",
       "    <tr>\n",
       "      <th>Dimorphic Hemorrhoids</th>\n",
       "      <td>50</td>\n",
       "      <td>41</td>\n",
       "      <td>I've been constipated and it's really hard to ...</td>\n",
       "      <td>3</td>\n",
       "    </tr>\n",
       "    <tr>\n",
       "      <th>Fungal infection</th>\n",
       "      <td>50</td>\n",
       "      <td>50</td>\n",
       "      <td>I have raised lumps, a rash that looks red and...</td>\n",
       "      <td>1</td>\n",
       "    </tr>\n",
       "    <tr>\n",
       "      <th>Hypertension</th>\n",
       "      <td>50</td>\n",
       "      <td>50</td>\n",
       "      <td>I have been experiencing a headache, chest pai...</td>\n",
       "      <td>1</td>\n",
       "    </tr>\n",
       "    <tr>\n",
       "      <th>Impetigo</th>\n",
       "      <td>50</td>\n",
       "      <td>50</td>\n",
       "      <td>I have developed a skin rash on my face and ne...</td>\n",
       "      <td>1</td>\n",
       "    </tr>\n",
       "    <tr>\n",
       "      <th>Jaundice</th>\n",
       "      <td>50</td>\n",
       "      <td>38</td>\n",
       "      <td>I've been feeling extremely scratchy, sick, an...</td>\n",
       "      <td>4</td>\n",
       "    </tr>\n",
       "    <tr>\n",
       "      <th>Malaria</th>\n",
       "      <td>50</td>\n",
       "      <td>44</td>\n",
       "      <td>I have a high fever, severe itching, chills, a...</td>\n",
       "      <td>2</td>\n",
       "    </tr>\n",
       "    <tr>\n",
       "      <th>Migraine</th>\n",
       "      <td>50</td>\n",
       "      <td>47</td>\n",
       "      <td>Along with excessive appetite, a stiff neck, h...</td>\n",
       "      <td>2</td>\n",
       "    </tr>\n",
       "    <tr>\n",
       "      <th>Pneumonia</th>\n",
       "      <td>50</td>\n",
       "      <td>47</td>\n",
       "      <td>I'm having a hard time breathing and I feel re...</td>\n",
       "      <td>2</td>\n",
       "    </tr>\n",
       "    <tr>\n",
       "      <th>Psoriasis</th>\n",
       "      <td>50</td>\n",
       "      <td>50</td>\n",
       "      <td>I have been experiencing a skin rash on my arm...</td>\n",
       "      <td>1</td>\n",
       "    </tr>\n",
       "    <tr>\n",
       "      <th>Typhoid</th>\n",
       "      <td>50</td>\n",
       "      <td>50</td>\n",
       "      <td>I have constipation and belly pain, and it's b...</td>\n",
       "      <td>1</td>\n",
       "    </tr>\n",
       "    <tr>\n",
       "      <th>Varicose Veins</th>\n",
       "      <td>50</td>\n",
       "      <td>50</td>\n",
       "      <td>I have a rash on my legs that is causing a lot...</td>\n",
       "      <td>1</td>\n",
       "    </tr>\n",
       "    <tr>\n",
       "      <th>allergy</th>\n",
       "      <td>50</td>\n",
       "      <td>50</td>\n",
       "      <td>I have a runny nose and I am sneezing all the ...</td>\n",
       "      <td>1</td>\n",
       "    </tr>\n",
       "    <tr>\n",
       "      <th>diabetes</th>\n",
       "      <td>50</td>\n",
       "      <td>50</td>\n",
       "      <td>I have increased thirst and frequent urination...</td>\n",
       "      <td>1</td>\n",
       "    </tr>\n",
       "    <tr>\n",
       "      <th>drug reaction</th>\n",
       "      <td>50</td>\n",
       "      <td>50</td>\n",
       "      <td>I have a metallic taste in my mouth, and also ...</td>\n",
       "      <td>1</td>\n",
       "    </tr>\n",
       "    <tr>\n",
       "      <th>gastroesophageal reflux disease</th>\n",
       "      <td>50</td>\n",
       "      <td>48</td>\n",
       "      <td>I'm not in the mood to eat, and swallowing is ...</td>\n",
       "      <td>2</td>\n",
       "    </tr>\n",
       "    <tr>\n",
       "      <th>peptic ulcer disease</th>\n",
       "      <td>50</td>\n",
       "      <td>50</td>\n",
       "      <td>I have a burning sensation in my upper abdomen...</td>\n",
       "      <td>1</td>\n",
       "    </tr>\n",
       "    <tr>\n",
       "      <th>urinary tract infection</th>\n",
       "      <td>50</td>\n",
       "      <td>50</td>\n",
       "      <td>Frequent urges to urinate with little output, ...</td>\n",
       "      <td>1</td>\n",
       "    </tr>\n",
       "  </tbody>\n",
       "</table>\n",
       "</div>"
      ],
      "text/plain": [
       "                                 text         \\\n",
       "                                count unique   \n",
       "label                                          \n",
       "Acne                               50     46   \n",
       "Arthritis                          50     46   \n",
       "Bronchial Asthma                   50     49   \n",
       "Cervical spondylosis               50     49   \n",
       "Chicken pox                        50     49   \n",
       "Common Cold                        50     49   \n",
       "Dengue                             50     50   \n",
       "Dimorphic Hemorrhoids              50     41   \n",
       "Fungal infection                   50     50   \n",
       "Hypertension                       50     50   \n",
       "Impetigo                           50     50   \n",
       "Jaundice                           50     38   \n",
       "Malaria                            50     44   \n",
       "Migraine                           50     47   \n",
       "Pneumonia                          50     47   \n",
       "Psoriasis                          50     50   \n",
       "Typhoid                            50     50   \n",
       "Varicose Veins                     50     50   \n",
       "allergy                            50     50   \n",
       "diabetes                           50     50   \n",
       "drug reaction                      50     50   \n",
       "gastroesophageal reflux disease    50     48   \n",
       "peptic ulcer disease               50     50   \n",
       "urinary tract infection            50     50   \n",
       "\n",
       "                                                                                    \\\n",
       "                                                                               top   \n",
       "label                                                                                \n",
       "Acne                             A nasty rash has just appeared on my skin. Bla...   \n",
       "Arthritis                        I've been feeling really weak in my muscles an...   \n",
       "Bronchial Asthma                 I've been struggling with fatigue and a consta...   \n",
       "Cervical spondylosis             Back pain, a persistent cough, and numbness in...   \n",
       "Chicken pox                      I'm feeling fatigued and have no energy. I can...   \n",
       "Common Cold                      I've been quite exhausted and ill. My throat h...   \n",
       "Dengue                           I am facing severe joint pain and vomitting. I...   \n",
       "Dimorphic Hemorrhoids            I've been constipated and it's really hard to ...   \n",
       "Fungal infection                 I have raised lumps, a rash that looks red and...   \n",
       "Hypertension                     I have been experiencing a headache, chest pai...   \n",
       "Impetigo                         I have developed a skin rash on my face and ne...   \n",
       "Jaundice                         I've been feeling extremely scratchy, sick, an...   \n",
       "Malaria                          I have a high fever, severe itching, chills, a...   \n",
       "Migraine                         Along with excessive appetite, a stiff neck, h...   \n",
       "Pneumonia                        I'm having a hard time breathing and I feel re...   \n",
       "Psoriasis                        I have been experiencing a skin rash on my arm...   \n",
       "Typhoid                          I have constipation and belly pain, and it's b...   \n",
       "Varicose Veins                   I have a rash on my legs that is causing a lot...   \n",
       "allergy                          I have a runny nose and I am sneezing all the ...   \n",
       "diabetes                         I have increased thirst and frequent urination...   \n",
       "drug reaction                    I have a metallic taste in my mouth, and also ...   \n",
       "gastroesophageal reflux disease  I'm not in the mood to eat, and swallowing is ...   \n",
       "peptic ulcer disease             I have a burning sensation in my upper abdomen...   \n",
       "urinary tract infection          Frequent urges to urinate with little output, ...   \n",
       "\n",
       "                                      \n",
       "                                freq  \n",
       "label                                 \n",
       "Acne                               2  \n",
       "Arthritis                          3  \n",
       "Bronchial Asthma                   2  \n",
       "Cervical spondylosis               2  \n",
       "Chicken pox                        2  \n",
       "Common Cold                        2  \n",
       "Dengue                             1  \n",
       "Dimorphic Hemorrhoids              3  \n",
       "Fungal infection                   1  \n",
       "Hypertension                       1  \n",
       "Impetigo                           1  \n",
       "Jaundice                           4  \n",
       "Malaria                            2  \n",
       "Migraine                           2  \n",
       "Pneumonia                          2  \n",
       "Psoriasis                          1  \n",
       "Typhoid                            1  \n",
       "Varicose Veins                     1  \n",
       "allergy                            1  \n",
       "diabetes                           1  \n",
       "drug reaction                      1  \n",
       "gastroesophageal reflux disease    2  \n",
       "peptic ulcer disease               1  \n",
       "urinary tract infection            1  "
      ]
     },
     "execution_count": 15,
     "metadata": {},
     "output_type": "execute_result"
    }
   ],
   "source": [
    "messages.groupby('label').describe()"
   ]
  },
  {
   "cell_type": "code",
   "execution_count": 16,
   "id": "3d927af7",
   "metadata": {},
   "outputs": [],
   "source": [
    "messages['length']=messages['text'].apply(len)"
   ]
  },
  {
   "cell_type": "code",
   "execution_count": 17,
   "id": "fc759e5e",
   "metadata": {},
   "outputs": [
    {
     "data": {
      "text/html": [
       "<div>\n",
       "<style scoped>\n",
       "    .dataframe tbody tr th:only-of-type {\n",
       "        vertical-align: middle;\n",
       "    }\n",
       "\n",
       "    .dataframe tbody tr th {\n",
       "        vertical-align: top;\n",
       "    }\n",
       "\n",
       "    .dataframe thead th {\n",
       "        text-align: right;\n",
       "    }\n",
       "</style>\n",
       "<table border=\"1\" class=\"dataframe\">\n",
       "  <thead>\n",
       "    <tr style=\"text-align: right;\">\n",
       "      <th></th>\n",
       "      <th>text</th>\n",
       "      <th>label</th>\n",
       "      <th>length</th>\n",
       "    </tr>\n",
       "  </thead>\n",
       "  <tbody>\n",
       "    <tr>\n",
       "      <th>0</th>\n",
       "      <td>I have been experiencing a skin rash on my arm...</td>\n",
       "      <td>Psoriasis</td>\n",
       "      <td>141</td>\n",
       "    </tr>\n",
       "    <tr>\n",
       "      <th>1</th>\n",
       "      <td>My skin has been peeling, especially on my kne...</td>\n",
       "      <td>Psoriasis</td>\n",
       "      <td>138</td>\n",
       "    </tr>\n",
       "    <tr>\n",
       "      <th>2</th>\n",
       "      <td>I have been experiencing joint pain in my fing...</td>\n",
       "      <td>Psoriasis</td>\n",
       "      <td>148</td>\n",
       "    </tr>\n",
       "    <tr>\n",
       "      <th>3</th>\n",
       "      <td>There is a silver like dusting on my skin, esp...</td>\n",
       "      <td>Psoriasis</td>\n",
       "      <td>164</td>\n",
       "    </tr>\n",
       "    <tr>\n",
       "      <th>4</th>\n",
       "      <td>My nails have small dents or pits in them, and...</td>\n",
       "      <td>Psoriasis</td>\n",
       "      <td>140</td>\n",
       "    </tr>\n",
       "  </tbody>\n",
       "</table>\n",
       "</div>"
      ],
      "text/plain": [
       "                                                text      label  length\n",
       "0  I have been experiencing a skin rash on my arm...  Psoriasis     141\n",
       "1  My skin has been peeling, especially on my kne...  Psoriasis     138\n",
       "2  I have been experiencing joint pain in my fing...  Psoriasis     148\n",
       "3  There is a silver like dusting on my skin, esp...  Psoriasis     164\n",
       "4  My nails have small dents or pits in them, and...  Psoriasis     140"
      ]
     },
     "execution_count": 17,
     "metadata": {},
     "output_type": "execute_result"
    }
   ],
   "source": [
    "messages.head()"
   ]
  },
  {
   "cell_type": "code",
   "execution_count": 18,
   "id": "e6ce94d4",
   "metadata": {},
   "outputs": [
    {
     "data": {
      "text/plain": [
       "<AxesSubplot:ylabel='Frequency'>"
      ]
     },
     "execution_count": 18,
     "metadata": {},
     "output_type": "execute_result"
    },
    {
     "data": {
      "image/png": "[encoded data removed]",
      "text/plain": [
       "<Figure size 640x480 with 1 Axes>"
      ]
     },
     "metadata": {},
     "output_type": "display_data"
    }
   ],
   "source": [
    "messages['length'].plot.hist(bins=100)"
   ]
  },
  {
   "cell_type": "code",
   "execution_count": 19,
   "id": "59ef751b",
   "metadata": {},
   "outputs": [
    {
     "data": {
      "text/plain": [
       "count    1200.000000\n",
       "mean      171.876667\n",
       "std        35.481506\n",
       "min        60.000000\n",
       "25%       147.750000\n",
       "50%       170.000000\n",
       "75%       193.000000\n",
       "max       317.000000\n",
       "Name: length, dtype: float64"
      ]
     },
     "execution_count": 19,
     "metadata": {},
     "output_type": "execute_result"
    }
   ],
   "source": [
    "messages['length'].describe()"
   ]
  },
  {
   "cell_type": "code",
   "execution_count": 20,
   "id": "9ae34617",
   "metadata": {},
   "outputs": [
    {
     "data": {
      "text/plain": [
       "'My skin has been peeling, especially on my knees, elbows, and scalp. This peeling is often accompanied by a burning or stinging sensation.'"
      ]
     },
     "execution_count": 20,
     "metadata": {},
     "output_type": "execute_result"
    }
   ],
   "source": [
    "messages[messages['length']==138]['text'].iloc[0]"
   ]
  },
  {
   "cell_type": "code",
   "execution_count": 21,
   "id": "ebfe3036",
   "metadata": {},
   "outputs": [
    {
     "data": {
      "text/plain": [
       "array([[<AxesSubplot:title={'center':'Acne'}>,\n",
       "        <AxesSubplot:title={'center':'Arthritis'}>,\n",
       "        <AxesSubplot:title={'center':'Bronchial Asthma'}>,\n",
       "        <AxesSubplot:title={'center':'Cervical spondylosis'}>,\n",
       "        <AxesSubplot:title={'center':'Chicken pox'}>],\n",
       "       [<AxesSubplot:title={'center':'Common Cold'}>,\n",
       "        <AxesSubplot:title={'center':'Dengue'}>,\n",
       "        <AxesSubplot:title={'center':'Dimorphic Hemorrhoids'}>,\n",
       "        <AxesSubplot:title={'center':'Fungal infection'}>,\n",
       "        <AxesSubplot:title={'center':'Hypertension'}>],\n",
       "       [<AxesSubplot:title={'center':'Impetigo'}>,\n",
       "        <AxesSubplot:title={'center':'Jaundice'}>,\n",
       "        <AxesSubplot:title={'center':'Malaria'}>,\n",
       "        <AxesSubplot:title={'center':'Migraine'}>,\n",
       "        <AxesSubplot:title={'center':'Pneumonia'}>],\n",
       "       [<AxesSubplot:title={'center':'Psoriasis'}>,\n",
       "        <AxesSubplot:title={'center':'Typhoid'}>,\n",
       "        <AxesSubplot:title={'center':'Varicose Veins'}>,\n",
       "        <AxesSubplot:title={'center':'allergy'}>,\n",
       "        <AxesSubplot:title={'center':'diabetes'}>],\n",
       "       [<AxesSubplot:title={'center':'drug reaction'}>,\n",
       "        <AxesSubplot:title={'center':'gastroesophageal reflux disease'}>,\n",
       "        <AxesSubplot:title={'center':'peptic ulcer disease'}>,\n",
       "        <AxesSubplot:title={'center':'urinary tract infection'}>,\n",
       "        <AxesSubplot:>]], dtype=object)"
      ]
     },
     "execution_count": 21,
     "metadata": {},
     "output_type": "execute_result"
    },
    {
     "data": {
      "image/png": "[encoded data removed]",
      "text/plain": [
       "<Figure size 1200x400 with 25 Axes>"
      ]
     },
     "metadata": {},
     "output_type": "display_data"
    }
   ],
   "source": [
    "messages.hist(column='length',by='label',bins=60,figsize=(12,4))"
   ]
  },
  {
   "cell_type": "code",
   "execution_count": 22,
   "id": "4e152120",
   "metadata": {},
   "outputs": [],
   "source": [
    "from nltk.corpus import stopwords"
   ]
  },
  {
   "cell_type": "code",
   "execution_count": 23,
   "id": "103317f5",
   "metadata": {},
   "outputs": [],
   "source": [
    "def text_process(mess):\n",
    "    \"\"\"\n",
    "    Takes in a string of text, then performs the following:\n",
    "    1. Remove all punctuation\n",
    "    2. Remove all stopwords\n",
    "    3. Returns a list of the cleaned text\n",
    "    \"\"\"\n",
    "    # Check characters to see if they are in punctuation\n",
    "    nopunc = [char for char in mess if char not in string.punctuation]\n",
    "\n",
    "    # Join the characters again to form the string.\n",
    "    nopunc = ''.join(nopunc)\n",
    "    \n",
    "    # Now just remove any stopwords\n",
    "    return [word for word in nopunc.split() if word.lower() not in stopwords.words('english')]"
   ]
  },
  {
   "cell_type": "code",
   "execution_count": 24,
   "id": "3be8fe8e",
   "metadata": {},
   "outputs": [
    {
     "data": {
      "text/plain": [
       "0    [experiencing, skin, rash, arms, legs, torso, ...\n",
       "1    [skin, peeling, especially, knees, elbows, sca...\n",
       "2    [experiencing, joint, pain, fingers, wrists, k...\n",
       "3    [silver, like, dusting, skin, especially, lowe...\n",
       "4    [nails, small, dents, pits, often, feel, infla...\n",
       "Name: text, dtype: object"
      ]
     },
     "execution_count": 24,
     "metadata": {},
     "output_type": "execute_result"
    }
   ],
   "source": [
    "messages['text'].head(5).apply(text_process)"
   ]
  },
  {
   "cell_type": "code",
   "execution_count": 25,
   "id": "d2680173",
   "metadata": {},
   "outputs": [
    {
     "data": {
      "text/html": [
       "<div>\n",
       "<style scoped>\n",
       "    .dataframe tbody tr th:only-of-type {\n",
       "        vertical-align: middle;\n",
       "    }\n",
       "\n",
       "    .dataframe tbody tr th {\n",
       "        vertical-align: top;\n",
       "    }\n",
       "\n",
       "    .dataframe thead th {\n",
       "        text-align: right;\n",
       "    }\n",
       "</style>\n",
       "<table border=\"1\" class=\"dataframe\">\n",
       "  <thead>\n",
       "    <tr style=\"text-align: right;\">\n",
       "      <th></th>\n",
       "      <th>text</th>\n",
       "      <th>label</th>\n",
       "      <th>length</th>\n",
       "    </tr>\n",
       "  </thead>\n",
       "  <tbody>\n",
       "    <tr>\n",
       "      <th>0</th>\n",
       "      <td>I have been experiencing a skin rash on my arm...</td>\n",
       "      <td>Psoriasis</td>\n",
       "      <td>141</td>\n",
       "    </tr>\n",
       "    <tr>\n",
       "      <th>1</th>\n",
       "      <td>My skin has been peeling, especially on my kne...</td>\n",
       "      <td>Psoriasis</td>\n",
       "      <td>138</td>\n",
       "    </tr>\n",
       "    <tr>\n",
       "      <th>2</th>\n",
       "      <td>I have been experiencing joint pain in my fing...</td>\n",
       "      <td>Psoriasis</td>\n",
       "      <td>148</td>\n",
       "    </tr>\n",
       "    <tr>\n",
       "      <th>3</th>\n",
       "      <td>There is a silver like dusting on my skin, esp...</td>\n",
       "      <td>Psoriasis</td>\n",
       "      <td>164</td>\n",
       "    </tr>\n",
       "    <tr>\n",
       "      <th>4</th>\n",
       "      <td>My nails have small dents or pits in them, and...</td>\n",
       "      <td>Psoriasis</td>\n",
       "      <td>140</td>\n",
       "    </tr>\n",
       "  </tbody>\n",
       "</table>\n",
       "</div>"
      ],
      "text/plain": [
       "                                                text      label  length\n",
       "0  I have been experiencing a skin rash on my arm...  Psoriasis     141\n",
       "1  My skin has been peeling, especially on my kne...  Psoriasis     138\n",
       "2  I have been experiencing joint pain in my fing...  Psoriasis     148\n",
       "3  There is a silver like dusting on my skin, esp...  Psoriasis     164\n",
       "4  My nails have small dents or pits in them, and...  Psoriasis     140"
      ]
     },
     "execution_count": 25,
     "metadata": {},
     "output_type": "execute_result"
    }
   ],
   "source": [
    "messages.head()"
   ]
  },
  {
   "cell_type": "code",
   "execution_count": 26,
   "id": "fb46fe87",
   "metadata": {},
   "outputs": [],
   "source": [
    "from sklearn.feature_extraction.text import CountVectorizer"
   ]
  },
  {
   "cell_type": "code",
   "execution_count": 27,
   "id": "9494896e",
   "metadata": {},
   "outputs": [
    {
     "name": "stdout",
     "output_type": "stream",
     "text": [
      "1548\n"
     ]
    }
   ],
   "source": [
    "bow_transformer = CountVectorizer(analyzer=text_process).fit(messages['text'])\n",
    "\n",
    "# Print total number of vocab words\n",
    "print(len(bow_transformer.vocabulary_))"
   ]
  },
  {
   "cell_type": "code",
   "execution_count": 28,
   "id": "6201d8bd",
   "metadata": {},
   "outputs": [
    {
     "name": "stdout",
     "output_type": "stream",
     "text": [
      "0       I have been experiencing a skin rash on my arm...\n",
      "1       My skin has been peeling, especially on my kne...\n",
      "2       I have been experiencing joint pain in my fing...\n",
      "3       There is a silver like dusting on my skin, esp...\n",
      "4       My nails have small dents or pits in them, and...\n",
      "                              ...                        \n",
      "1195    I'm shaking and trembling all over. I've lost ...\n",
      "1196    Particularly in the crevices of my skin, I hav...\n",
      "1197    I regularly experience these intense urges and...\n",
      "1198    I have trouble breathing, especially outside. ...\n",
      "1199    I constantly sneeze and have a dry cough. My i...\n",
      "Name: text, Length: 1200, dtype: object\n"
     ]
    }
   ],
   "source": [
    "message4 = messages['text']\n",
    "print(message4)"
   ]
  },
  {
   "cell_type": "code",
   "execution_count": 29,
   "id": "632f924c",
   "metadata": {},
   "outputs": [
    {
     "name": "stdout",
     "output_type": "stream",
     "text": [
      "  (0, 1)\t2\n",
      "  (0, 2)\t3\n",
      "  (0, 3)\t10\n",
      "  (0, 4)\t1\n",
      "  (0, 5)\t3\n",
      "  (0, 6)\t1\n",
      "  (0, 7)\t4\n",
      "  (0, 10)\t1\n",
      "  (0, 12)\t7\n",
      "  (0, 13)\t10\n",
      "  (0, 16)\t1\n",
      "  (0, 19)\t1\n",
      "  (0, 20)\t1\n",
      "  (0, 22)\t1\n",
      "  (0, 25)\t4\n",
      "  (0, 28)\t5\n",
      "  (0, 29)\t3\n",
      "  (0, 30)\t2\n",
      "  (0, 32)\t1\n",
      "  (0, 33)\t1\n",
      "  (0, 36)\t5\n",
      "  (0, 40)\t1\n",
      "  (0, 41)\t1\n",
      "  (0, 46)\t1\n",
      "  (0, 49)\t1\n",
      "  :\t:\n",
      "  (0, 1518)\t5\n",
      "  (0, 1519)\t2\n",
      "  (0, 1520)\t28\n",
      "  (0, 1521)\t2\n",
      "  (0, 1522)\t11\n",
      "  (0, 1524)\t4\n",
      "  (0, 1525)\t2\n",
      "  (0, 1526)\t5\n",
      "  (0, 1527)\t2\n",
      "  (0, 1528)\t1\n",
      "  (0, 1529)\t37\n",
      "  (0, 1530)\t21\n",
      "  (0, 1531)\t1\n",
      "  (0, 1532)\t3\n",
      "  (0, 1533)\t3\n",
      "  (0, 1534)\t27\n",
      "  (0, 1535)\t1\n",
      "  (0, 1536)\t1\n",
      "  (0, 1537)\t4\n",
      "  (0, 1538)\t4\n",
      "  (0, 1540)\t4\n",
      "  (0, 1541)\t5\n",
      "  (0, 1542)\t32\n",
      "  (0, 1546)\t1\n",
      "  (0, 1547)\t1\n",
      "(1, 1548)\n"
     ]
    }
   ],
   "source": [
    "bow4 = bow_transformer.transform([message4])\n",
    "print(bow4)\n",
    "print(bow4.shape)"
   ]
  },
  {
   "cell_type": "code",
   "execution_count": 30,
   "id": "922ee915",
   "metadata": {},
   "outputs": [
    {
     "name": "stdout",
     "output_type": "stream",
     "text": [
      "Additionally\n",
      "accompanying\n"
     ]
    },
    {
     "name": "stderr",
     "output_type": "stream",
     "text": [
      "C:\\Users\\DELL\\anaconda3\\lib\\site-packages\\sklearn\\utils\\deprecation.py:87: FutureWarning: Function get_feature_names is deprecated; get_feature_names is deprecated in 1.0 and will be removed in 1.2. Please use get_feature_names_out instead.\n",
      "  warnings.warn(msg, category=FutureWarning)\n"
     ]
    }
   ],
   "source": [
    "print(bow_transformer.get_feature_names()[2])\n",
    "print(bow_transformer.get_feature_names()[101])"
   ]
  },
  {
   "cell_type": "code",
   "execution_count": 31,
   "id": "fc25d1f5",
   "metadata": {},
   "outputs": [],
   "source": [
    "messages_bow = bow_transformer.transform(messages['text'])"
   ]
  },
  {
   "cell_type": "code",
   "execution_count": 32,
   "id": "4dafea79",
   "metadata": {},
   "outputs": [
    {
     "name": "stdout",
     "output_type": "stream",
     "text": [
      "Shape of Sparse Matrix:  (1200, 1548)\n",
      "Amount of Non-Zero occurences:  18515\n"
     ]
    }
   ],
   "source": [
    "print('Shape of Sparse Matrix: ', messages_bow.shape)\n",
    "print('Amount of Non-Zero occurences: ', messages_bow.nnz)"
   ]
  },
  {
   "cell_type": "code",
   "execution_count": 33,
   "id": "34dd7c31",
   "metadata": {},
   "outputs": [
    {
     "name": "stdout",
     "output_type": "stream",
     "text": [
      "sparsity: 1\n"
     ]
    }
   ],
   "source": [
    "sparsity = (100.0 * messages_bow.nnz / (messages_bow.shape[0] * messages_bow.shape[1]))\n",
    "print('sparsity: {}'.format(round(sparsity)))"
   ]
  },
  {
   "cell_type": "code",
   "execution_count": 34,
   "id": "0e410d3b",
   "metadata": {},
   "outputs": [
    {
     "name": "stdout",
     "output_type": "stream",
     "text": [
      "  (0, 1547)\t0.002336729095244863\n",
      "  (0, 1546)\t0.002336729095244863\n",
      "  (0, 1542)\t0.039433225185650886\n",
      "  (0, 1541)\t0.009948553784503829\n",
      "  (0, 1540)\t0.007595362823409709\n",
      "  (0, 1538)\t0.007958843027603062\n",
      "  (0, 1537)\t0.008189202452253776\n",
      "  (0, 1536)\t0.002336729095244863\n",
      "  (0, 1535)\t0.0022086549515969835\n",
      "  (0, 1534)\t0.03616726428743216\n",
      "  (0, 1533)\t0.005969132270702298\n",
      "  (0, 1532)\t0.006353354701645935\n",
      "  (0, 1531)\t0.002336729095244863\n",
      "  (0, 1530)\t0.031565747596157885\n",
      "  (0, 1529)\t0.052358467565850116\n",
      "  (0, 1528)\t0.002336729095244863\n",
      "  (0, 1527)\t0.00423556980109729\n",
      "  (0, 1526)\t0.008727417479153902\n",
      "  (0, 1525)\t0.004417309903193967\n",
      "  (0, 1524)\t0.007595362823409709\n",
      "  (0, 1522)\t0.01947843218425003\n",
      "  (0, 1521)\t0.00423556980109729\n",
      "  (0, 1520)\t0.041777303487173637\n",
      "  (0, 1519)\t0.004417309903193967\n",
      "  (0, 1518)\t0.009948553784503829\n",
      "  :\t:\n",
      "  (0, 49)\t0.002336729095244863\n",
      "  (0, 46)\t0.002336729095244863\n",
      "  (0, 41)\t0.0022086549515969835\n",
      "  (0, 40)\t0.002117784900548645\n",
      "  (0, 36)\t0.009948553784503829\n",
      "  (0, 33)\t0.002336729095244863\n",
      "  (0, 32)\t0.002336729095244863\n",
      "  (0, 30)\t0.004417309903193967\n",
      "  (0, 29)\t0.006353354701645935\n",
      "  (0, 28)\t0.009308183066264434\n",
      "  (0, 25)\t0.007958843027603062\n",
      "  (0, 22)\t0.002336729095244863\n",
      "  (0, 20)\t0.002336729095244863\n",
      "  (0, 19)\t0.0019897107569007656\n",
      "  (0, 16)\t0.002336729095244863\n",
      "  (0, 13)\t0.017982508200919047\n",
      "  (0, 12)\t0.013291884940966992\n",
      "  (0, 10)\t0.0022086549515969835\n",
      "  (0, 7)\t0.008189202452253776\n",
      "  (0, 6)\t0.002336729095244863\n",
      "  (0, 5)\t0.006353354701645935\n",
      "  (0, 4)\t0.0015652656603137307\n",
      "  (0, 3)\t0.013984651574866835\n",
      "  (0, 2)\t0.0037409476518495653\n",
      "  (0, 1)\t0.004417309903193967\n"
     ]
    }
   ],
   "source": [
    "from sklearn.feature_extraction.text import TfidfTransformer\n",
    "\n",
    "tfidf_transformer = TfidfTransformer().fit(messages_bow)\n",
    "tfidf4 = tfidf_transformer.transform(bow4)\n",
    "print(tfidf4)"
   ]
  },
  {
   "cell_type": "code",
   "execution_count": 35,
   "id": "59bb8319",
   "metadata": {},
   "outputs": [
    {
     "name": "stdout",
     "output_type": "stream",
     "text": [
      "(1200, 1548)\n"
     ]
    }
   ],
   "source": [
    "messages_tfidf = tfidf_transformer.transform(messages_bow)\n",
    "print(messages_tfidf.shape)"
   ]
  },
  {
   "cell_type": "code",
   "execution_count": 36,
   "id": "7dcd2a15",
   "metadata": {},
   "outputs": [],
   "source": [
    "from sklearn.naive_bayes import MultinomialNB\n",
    "stress_detect_model = MultinomialNB().fit(messages_tfidf, messages['label'])"
   ]
  },
  {
   "cell_type": "code",
   "execution_count": 37,
   "id": "80787d28",
   "metadata": {},
   "outputs": [],
   "source": [
    "all_predictions = stress_detect_model.predict(messages_tfidf)"
   ]
  },
  {
   "cell_type": "code",
   "execution_count": 38,
   "id": "800c0743",
   "metadata": {},
   "outputs": [
    {
     "name": "stdout",
     "output_type": "stream",
     "text": [
      "                                 precision    recall  f1-score   support\n",
      "\n",
      "                           Acne       1.00      1.00      1.00        50\n",
      "                      Arthritis       1.00      1.00      1.00        50\n",
      "               Bronchial Asthma       1.00      1.00      1.00        50\n",
      "           Cervical spondylosis       1.00      1.00      1.00        50\n",
      "                    Chicken pox       0.98      1.00      0.99        50\n",
      "                    Common Cold       1.00      1.00      1.00        50\n",
      "                         Dengue       1.00      0.98      0.99        50\n",
      "          Dimorphic Hemorrhoids       1.00      1.00      1.00        50\n",
      "               Fungal infection       1.00      1.00      1.00        50\n",
      "                   Hypertension       1.00      1.00      1.00        50\n",
      "                       Impetigo       1.00      1.00      1.00        50\n",
      "                       Jaundice       1.00      1.00      1.00        50\n",
      "                        Malaria       1.00      1.00      1.00        50\n",
      "                       Migraine       1.00      1.00      1.00        50\n",
      "                      Pneumonia       0.98      1.00      0.99        50\n",
      "                      Psoriasis       1.00      1.00      1.00        50\n",
      "                        Typhoid       1.00      1.00      1.00        50\n",
      "                 Varicose Veins       1.00      1.00      1.00        50\n",
      "                        allergy       1.00      1.00      1.00        50\n",
      "                       diabetes       1.00      0.98      0.99        50\n",
      "                  drug reaction       1.00      0.98      0.99        50\n",
      "gastroesophageal reflux disease       0.94      1.00      0.97        50\n",
      "           peptic ulcer disease       1.00      0.94      0.97        50\n",
      "        urinary tract infection       0.98      1.00      0.99        50\n",
      "\n",
      "                       accuracy                           0.99      1200\n",
      "                      macro avg       1.00      1.00      0.99      1200\n",
      "                   weighted avg       1.00      0.99      0.99      1200\n",
      "\n"
     ]
    }
   ],
   "source": [
    "from sklearn.metrics import classification_report\n",
    "print (classification_report(messages['label'], all_predictions))"
   ]
  },
  {
   "cell_type": "code",
   "execution_count": 39,
   "id": "075edac1",
   "metadata": {},
   "outputs": [
    {
     "name": "stdout",
     "output_type": "stream",
     "text": [
      "960 240 1200\n"
     ]
    }
   ],
   "source": [
    "from sklearn.model_selection import train_test_split\n",
    "\n",
    "msg_train, msg_test, label_train, label_test = \\\n",
    "train_test_split(messages['text'], messages['label'], test_size=0.2)\n",
    "\n",
    "print(len(msg_train), len(msg_test), len(msg_train) + len(msg_test))"
   ]
  },
  {
   "cell_type": "code",
   "execution_count": 40,
   "id": "42273499",
   "metadata": {},
   "outputs": [],
   "source": [
    "from sklearn.pipeline import Pipeline\n",
    "\n",
    "pipeline = Pipeline([\n",
    "    ('bow', CountVectorizer(analyzer=text_process)),  # strings to token integer counts\n",
    "    ('tfidf', TfidfTransformer()),  # integer counts to weighted TF-IDF scores\n",
    "    ('classifier', MultinomialNB()),  # train on TF-IDF vectors w/ Naive Bayes classifier\n",
    "])"
   ]
  },
  {
   "cell_type": "code",
   "execution_count": 41,
   "id": "ba142832",
   "metadata": {},
   "outputs": [
    {
     "data": {
      "text/plain": [
       "Pipeline(steps=[('bow',\n",
       "                 CountVectorizer(analyzer=<function text_process at 0x000002F7CEE8E670>)),\n",
       "                ('tfidf', TfidfTransformer()),\n",
       "                ('classifier', MultinomialNB())])"
      ]
     },
     "execution_count": 41,
     "metadata": {},
     "output_type": "execute_result"
    }
   ],
   "source": [
    "pipeline.fit(msg_train,label_train)"
   ]
  },
  {
   "cell_type": "code",
   "execution_count": 42,
   "id": "1a23c374",
   "metadata": {},
   "outputs": [],
   "source": [
    "predictions = pipeline.predict(msg_test)"
   ]
  },
  {
   "cell_type": "code",
   "execution_count": 43,
   "id": "0aa513de",
   "metadata": {},
   "outputs": [
    {
     "name": "stdout",
     "output_type": "stream",
     "text": [
      "                                 precision    recall  f1-score   support\n",
      "\n",
      "                           Acne       1.00      1.00      1.00         9\n",
      "                      Arthritis       1.00      1.00      1.00         8\n",
      "               Bronchial Asthma       1.00      1.00      1.00         7\n",
      "           Cervical spondylosis       1.00      0.92      0.96        13\n",
      "                    Chicken pox       0.92      1.00      0.96        11\n",
      "                    Common Cold       1.00      0.92      0.96        13\n",
      "                         Dengue       0.91      1.00      0.95        10\n",
      "          Dimorphic Hemorrhoids       1.00      1.00      1.00         8\n",
      "               Fungal infection       1.00      1.00      1.00        13\n",
      "                   Hypertension       0.92      1.00      0.96        11\n",
      "                       Impetigo       1.00      1.00      1.00        13\n",
      "                       Jaundice       1.00      1.00      1.00         5\n",
      "                        Malaria       1.00      1.00      1.00        11\n",
      "                       Migraine       1.00      1.00      1.00         9\n",
      "                      Pneumonia       1.00      0.77      0.87        13\n",
      "                      Psoriasis       1.00      0.90      0.95        10\n",
      "                        Typhoid       1.00      0.82      0.90        11\n",
      "                 Varicose Veins       1.00      1.00      1.00        12\n",
      "                        allergy       0.92      1.00      0.96        12\n",
      "                       diabetes       1.00      1.00      1.00         8\n",
      "                  drug reaction       0.56      1.00      0.71         5\n",
      "gastroesophageal reflux disease       1.00      0.60      0.75        15\n",
      "           peptic ulcer disease       0.45      1.00      0.62         5\n",
      "        urinary tract infection       1.00      1.00      1.00         8\n",
      "\n",
      "                       accuracy                           0.94       240\n",
      "                      macro avg       0.94      0.96      0.94       240\n",
      "                   weighted avg       0.96      0.94      0.94       240\n",
      "\n"
     ]
    }
   ],
   "source": [
    "print(classification_report(predictions,label_test))"
   ]
  },
  {
   "cell_type": "code",
   "execution_count": null,
   "id": "c76efdea",
   "metadata": {},
   "outputs": [],
   "source": []
  }
 ],
 "metadata": {
  "kernelspec": {
   "display_name": "Python 3 (ipykernel)",
   "language": "python",
   "name": "python3"
  },
  "language_info": {
   "codemirror_mode": {
    "name": "ipython",
    "version": 3
   },
   "file_extension": ".py",
   "mimetype": "text/x-python",
   "name": "python",
   "nbconvert_exporter": "python",
   "pygments_lexer": "ipython3",
   "version": "3.9.13"
  }
 },
 "nbformat": 4,
 "nbformat_minor": 5
}
